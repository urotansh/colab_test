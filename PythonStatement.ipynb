{
  "nbformat": 4,
  "nbformat_minor": 0,
  "metadata": {
    "colab": {
      "provenance": [],
      "authorship_tag": "ABX9TyOLGUjurPbbiFt21PRrjquy"
    },
    "kernelspec": {
      "name": "python3",
      "display_name": "Python 3"
    },
    "language_info": {
      "name": "python"
    }
  },
  "cells": [
    {
      "cell_type": "markdown",
      "source": [
        "# Python 基本ルール\n",
        "<br>\n",
        "1.   算術演算例\n",
        "\n",
        "算術演算 | 例 | 演算子 | 式 | 結果\n",
        "-- | -- | -- | -- | --\n",
        "加算 | 13 + 2 | + | 13 + 2 | 15\n",
        "減算 | 5 - 4 | - | 5 - 4 | 1\n",
        "乗算 | 9 × 2 | * | 9 * 2 | 18\n",
        "除算 | 8 ÷ 2 | / | 8 / 2 | 4.0\n",
        "除算(切り捨て) | 8 ÷ 3 | // | 8 // 3 | 2\n",
        "べき乗 | 4 ^ 2 | ** | 4 ** 2 | 16\n",
        "剰余(除算の余り) | 11 ÷ 3 | % | 11 % 3 | 2\n",
        "\n",
        "<br>\n",
        "2.   データ型\n",
        "\n",
        "データ種別 | 例 | 型\n",
        "-- | -- | --\n",
        "整数 | 18 | int\n",
        "実数 | 14.018 | float\n",
        "文字列 | \"CAR\" | str\n",
        "ブール値 | True, False | bool\n",
        "リスト | [100, 200, 300] | list\n",
        "辞書 | {key1: value1} | dict\n",
        "セット | set([1, 2, 3]) | set"
      ],
      "metadata": {
        "id": "GU2Y6RCtRgGa"
      }
    },
    {
      "cell_type": "markdown",
      "source": [
        "# Python 基本文法\n",
        "\n",
        "\n",
        "1.   for文"
      ],
      "metadata": {
        "id": "f0XwBb1qNLZO"
      }
    },
    {
      "cell_type": "code",
      "execution_count": 3,
      "metadata": {
        "id": "8XwqXFhXNHbs",
        "colab": {
          "base_uri": "https://localhost:8080/"
        },
        "outputId": "0d6acba2-be44-4f88-bae7-ff4efe9ae4f1"
      },
      "outputs": [
        {
          "output_type": "stream",
          "name": "stdout",
          "text": [
            "太郎\n",
            "次郎\n",
            "三郎\n"
          ]
        }
      ],
      "source": [
        "names = ['太郎', '次郎', '三郎']\n",
        "for name in names:\n",
        "    print(name)"
      ]
    },
    {
      "cell_type": "markdown",
      "source": [
        "2.   while文\n",
        "\n"
      ],
      "metadata": {
        "id": "PAR1czQjXC0s"
      }
    },
    {
      "cell_type": "code",
      "source": [
        "i = 0\n",
        "while i < 3:\n",
        "    print(i)\n",
        "    i += 1"
      ],
      "metadata": {
        "colab": {
          "base_uri": "https://localhost:8080/"
        },
        "id": "8GYaY8IMXHbk",
        "outputId": "f7ba77d6-383b-4fa2-ef6d-36067e67bf2b"
      },
      "execution_count": 4,
      "outputs": [
        {
          "output_type": "stream",
          "name": "stdout",
          "text": [
            "0\n",
            "1\n",
            "2\n"
          ]
        }
      ]
    },
    {
      "cell_type": "markdown",
      "source": [
        "3.   if文\n",
        "\n",
        "条件式 | 説明\n",
        "-- | --\n",
        "x < y | xがyより小さい\n",
        "x <= y | xがy以下\n",
        "x > y | xがyより大きい\n",
        "x >= y | xがy以上\n",
        "x == y | xとyが等しい\n",
        "x != y | xとyが等しくない\n",
        "x is y | xとyが同じオブジェクト\n",
        "x is not y | xとyが同じオブジェクトではない\n",
        "x in y | xがyに含まれている\n",
        "x not in y | xがyに含まれていない"
      ],
      "metadata": {
        "id": "XlfvoHprXQPw"
      }
    },
    {
      "cell_type": "code",
      "source": [
        "def if_test(num):\n",
        "    if num > 100:\n",
        "        print(str(num) + '：100より大きい')\n",
        "    elif num > 50:\n",
        "        print(str(num) + '：100以下かつ50より大きい')\n",
        "    elif num > 0:\n",
        "        print(str(num) + '：50以下かつ0より大きい')\n",
        "    elif num == 0:\n",
        "        print(str(num) + '：0と等しい')\n",
        "    else:\n",
        "        print(str(num) + '：0より小さい')\n",
        "\n",
        "if_test(2000)\n",
        "if_test(100)\n",
        "if_test(75)\n",
        "if_test(50)\n",
        "if_test(0)\n",
        "if_test(-100)\n"
      ],
      "metadata": {
        "colab": {
          "base_uri": "https://localhost:8080/"
        },
        "id": "6l6BiRZCXb4s",
        "outputId": "dff0e733-3a36-4543-a153-cfff863e2832"
      },
      "execution_count": 18,
      "outputs": [
        {
          "output_type": "stream",
          "name": "stdout",
          "text": [
            "2000：100より大きい\n",
            "100：100以下かつ50より大きい\n",
            "75：100以下かつ50より大きい\n",
            "50：50以下かつ0より大きい\n",
            "0：0と等しい\n",
            "-100：0より小さい\n"
          ]
        }
      ]
    },
    {
      "cell_type": "markdown",
      "source": [
        "4.   break文\n",
        "\n"
      ],
      "metadata": {
        "id": "i-I_1TW1aR7y"
      }
    },
    {
      "cell_type": "code",
      "source": [
        "names = ['太郎', '次郎', '三郎']\n",
        "for name in names:\n",
        "    print(name)\n",
        "    if name == '次郎':\n",
        "        break"
      ],
      "metadata": {
        "colab": {
          "base_uri": "https://localhost:8080/"
        },
        "id": "2AULunOnafx1",
        "outputId": "2fb22596-517d-4544-fe67-cbcfb7841ec5"
      },
      "execution_count": 15,
      "outputs": [
        {
          "output_type": "stream",
          "name": "stdout",
          "text": [
            "太郎\n",
            "次郎\n"
          ]
        }
      ]
    },
    {
      "cell_type": "code",
      "source": [
        "i = 0\n",
        "while i < 3:\n",
        "    print(i)\n",
        "    if i == 1:\n",
        "        break\n",
        "    i += 1"
      ],
      "metadata": {
        "colab": {
          "base_uri": "https://localhost:8080/"
        },
        "id": "J1FATCjEanOG",
        "outputId": "8d410e2a-bee2-4200-d61f-810b79c5bc27"
      },
      "execution_count": 16,
      "outputs": [
        {
          "output_type": "stream",
          "name": "stdout",
          "text": [
            "0\n",
            "1\n"
          ]
        }
      ]
    },
    {
      "cell_type": "markdown",
      "source": [
        " # Pythonライブラリ\n",
        "\n",
        " ライブラリ | ルビ | 説明 | URL\n",
        "-- | -- | -- | --\n",
        "pandas | パンダス | データ解析 | https://github.com/pandas-dev/pandas\n",
        "numpy | ナムパイ | 数値計算 | https://github.com/numpy/numpy\n",
        "matplotlib | マットプロットリブ | グラフ描画 | https://github.com/matplotlib/matplotlib\n"
      ],
      "metadata": {
        "id": "tK2BkY9SbTBt"
      }
    }
  ]
}