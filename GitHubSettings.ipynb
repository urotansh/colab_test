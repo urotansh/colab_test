{
  "nbformat": 4,
  "nbformat_minor": 0,
  "metadata": {
    "colab": {
      "provenance": [],
      "authorship_tag": "ABX9TyPYJa0KOFBTipXtUGe2wqni"
    },
    "kernelspec": {
      "name": "python3",
      "display_name": "Python 3"
    },
    "language_info": {
      "name": "python"
    }
  },
  "cells": [
    {
      "cell_type": "code",
      "source": [
        "# GitHubリポジトリのクローン\n",
        "!git clone https://github.com/urotansh/colab_test.git"
      ],
      "metadata": {
        "id": "d2iPgFO2jRkH"
      },
      "execution_count": null,
      "outputs": []
    },
    {
      "cell_type": "code",
      "source": [
        "# ディレクトリの移動\n",
        "%cd /content/colab_test"
      ],
      "metadata": {
        "id": "q1nCYoMN16Bf"
      },
      "execution_count": null,
      "outputs": []
    },
    {
      "cell_type": "code",
      "source": [
        "# # sshキー(秘密鍵・公開鍵)の作成\n",
        "# !ssh-keygen -t rsa -b 4096"
      ],
      "metadata": {
        "id": "8I9nWdpGS0pC"
      },
      "execution_count": null,
      "outputs": []
    },
    {
      "cell_type": "code",
      "source": [
        "# # ファイルアップロード\n",
        "# from google.colab import files\n",
        "# files.upload()"
      ],
      "metadata": {
        "id": "BNFLCHnS2OGR"
      },
      "execution_count": null,
      "outputs": []
    },
    {
      "cell_type": "code",
      "source": [
        "# # アップロードファイルの移動\n",
        "# !mv id_rsa /root/.ssh"
      ],
      "metadata": {
        "id": "coP35f5Xjxpy"
      },
      "execution_count": null,
      "outputs": []
    },
    {
      "cell_type": "code",
      "source": [
        "# sshキー(秘密鍵・公開鍵)の権限設定\n",
        "!chmod go-rwx /root/.ssh/id_rsa"
      ],
      "metadata": {
        "id": "-vtCiiSGWb8n"
      },
      "execution_count": null,
      "outputs": []
    },
    {
      "cell_type": "code",
      "source": [
        "# # sshキー(秘密鍵・公開鍵)の確認\n",
        "!ls -l /root/.ssh\n",
        "!ls -ld /root/.ssh"
      ],
      "metadata": {
        "id": "zSKEWmacTKT_"
      },
      "execution_count": null,
      "outputs": []
    },
    {
      "cell_type": "code",
      "source": [
        "# ユーザ名とメールアドレスの設定\n",
        "!git config --local user.name \"urotansh\"\n",
        "!git config --local user.email \"114655455+urotansh@users.noreply.github.com\""
      ],
      "metadata": {
        "id": "DdPdhG4c3P87"
      },
      "execution_count": null,
      "outputs": []
    },
    {
      "cell_type": "code",
      "source": [
        "# ユーザ名とメールアドレスの確認\n",
        "!git config user.name\n",
        "!git config user.email"
      ],
      "metadata": {
        "id": "oGxxWVdRXHUp"
      },
      "execution_count": null,
      "outputs": []
    },
    {
      "cell_type": "code",
      "source": [
        "# リモートリポジトリのURL設定\n",
        "!git remote set-url origin git@github.com:urotansh/colab_test.git"
      ],
      "metadata": {
        "id": "TyxnJpzx3c3Q"
      },
      "execution_count": null,
      "outputs": []
    },
    {
      "cell_type": "code",
      "source": [
        "# リモートリポジトリのURL確認\n",
        "!git remote -v"
      ],
      "metadata": {
        "id": "ZpO3ULTt6950"
      },
      "execution_count": null,
      "outputs": []
    },
    {
      "cell_type": "code",
      "source": [
        "# github.comの公開鍵を取得\n",
        "!ssh-keyscan -t rsa github.com >> ~/.ssh/known_hosts"
      ],
      "metadata": {
        "id": "HszGKS1Rg9-s"
      },
      "execution_count": null,
      "outputs": []
    },
    {
      "cell_type": "code",
      "source": [
        "# エディタの確認\n",
        "# !git config --global core.editor"
      ],
      "metadata": {
        "id": "yCavYlmtdMwV"
      },
      "execution_count": null,
      "outputs": []
    },
    {
      "cell_type": "code",
      "source": [
        "# ブランチ名をmainへ変更\n",
        "!git branch -M main"
      ],
      "metadata": {
        "id": "P_5LpBPhd1r9"
      },
      "execution_count": null,
      "outputs": []
    },
    {
      "cell_type": "code",
      "source": [
        "# # ローカルリポジトリへコミット\n",
        "# !git commit -am \"hogehoge\""
      ],
      "metadata": {
        "id": "pn_PVzci6Ff0"
      },
      "execution_count": null,
      "outputs": []
    },
    {
      "cell_type": "code",
      "source": [
        "# # リモートリポジトリへプッシュ\n",
        "# !git push origin main"
      ],
      "metadata": {
        "id": "_-1GA6PKemxT"
      },
      "execution_count": null,
      "outputs": []
    }
  ]
}