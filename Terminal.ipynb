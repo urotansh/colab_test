{
  "nbformat": 4,
  "nbformat_minor": 0,
  "metadata": {
    "colab": {
      "provenance": [],
      "authorship_tag": "ABX9TyP7JtCdA17V3EXG0h0T8GAM"
    },
    "kernelspec": {
      "name": "python3",
      "display_name": "Python 3"
    },
    "language_info": {
      "name": "python"
    },
    "accelerator": "GPU",
    "gpuClass": "standard"
  },
  "cells": [
    {
      "cell_type": "code",
      "source": [
        "# GitHubリポジトリのクローン\n",
        "!git clone https://github.com/urotansh/colab_test.git"
      ],
      "metadata": {
        "id": "d2iPgFO2jRkH",
        "colab": {
          "base_uri": "https://localhost:8080/"
        },
        "outputId": "9179c573-4d27-4255-9aa4-eb0bfd9981c7"
      },
      "execution_count": 33,
      "outputs": [
        {
          "output_type": "stream",
          "name": "stdout",
          "text": [
            "Cloning into 'colab_test'...\n",
            "remote: Enumerating objects: 36, done.\u001b[K\n",
            "remote: Counting objects: 100% (36/36), done.\u001b[K\n",
            "remote: Compressing objects: 100% (35/35), done.\u001b[K\n",
            "remote: Total 36 (delta 12), reused 13 (delta 0), pack-reused 0\u001b[K\n",
            "Unpacking objects: 100% (36/36), done.\n"
          ]
        }
      ]
    },
    {
      "cell_type": "code",
      "source": [
        "# ディレクトリの移動\n",
        "%cd /content/colab_test"
      ],
      "metadata": {
        "id": "q1nCYoMN16Bf",
        "colab": {
          "base_uri": "https://localhost:8080/"
        },
        "outputId": "76a1318c-78ba-4dd5-b7c3-8f3858b5cb48"
      },
      "execution_count": 2,
      "outputs": [
        {
          "output_type": "stream",
          "name": "stdout",
          "text": [
            "/content/colab_test\n"
          ]
        }
      ]
    },
    {
      "cell_type": "code",
      "source": [
        "# # sshキー(秘密鍵・公開鍵)の作成\n",
        "# !ssh-keygen -t rsa -b 4096"
      ],
      "metadata": {
        "id": "8I9nWdpGS0pC"
      },
      "execution_count": null,
      "outputs": []
    },
    {
      "cell_type": "code",
      "source": [
        "# # ファイルアップロード\n",
        "# from google.colab import files\n",
        "# files.upload()"
      ],
      "metadata": {
        "id": "BNFLCHnS2OGR"
      },
      "execution_count": null,
      "outputs": []
    },
    {
      "cell_type": "code",
      "source": [
        "# ディレクトリ作成\n",
        "!mkdir /root/.ssh"
      ],
      "metadata": {
        "id": "Gipljys9_O9x"
      },
      "execution_count": 4,
      "outputs": []
    },
    {
      "cell_type": "code",
      "source": [
        "# アップロードファイルの移動\n",
        "!mv /content/id_rsa /root/.ssh"
      ],
      "metadata": {
        "id": "coP35f5Xjxpy"
      },
      "execution_count": 6,
      "outputs": []
    },
    {
      "cell_type": "code",
      "source": [
        "# sshキー(秘密鍵・公開鍵)の権限設定\n",
        "!chmod go-rwx /root/.ssh/id_rsa"
      ],
      "metadata": {
        "id": "-vtCiiSGWb8n"
      },
      "execution_count": 8,
      "outputs": []
    },
    {
      "cell_type": "code",
      "source": [
        "# # sshキー(秘密鍵・公開鍵)の確認\n",
        "!ls -l /root/.ssh\n",
        "!ls -ld /root/.ssh"
      ],
      "metadata": {
        "id": "zSKEWmacTKT_",
        "colab": {
          "base_uri": "https://localhost:8080/"
        },
        "outputId": "b0a2bd7e-4c58-49dc-b0da-520ae9db9028"
      },
      "execution_count": 17,
      "outputs": [
        {
          "output_type": "stream",
          "name": "stdout",
          "text": [
            "total 4\n",
            "-rw------- 1 root root 1675 Jan 11 08:40 id_rsa\n",
            "drwxr-xr-x 2 root root 4096 Jan 11 08:41 /root/.ssh\n"
          ]
        }
      ]
    },
    {
      "cell_type": "code",
      "source": [
        "# ユーザ名とメールアドレスの設定\n",
        "!git config --local user.name \"urotansh\"\n",
        "!git config --local user.email \"114655455+urotansh@users.noreply.github.com\""
      ],
      "metadata": {
        "id": "DdPdhG4c3P87"
      },
      "execution_count": 41,
      "outputs": []
    },
    {
      "cell_type": "code",
      "source": [
        "# ユーザ名とメールアドレスの確認\n",
        "!git config user.name\n",
        "!git config user.email"
      ],
      "metadata": {
        "id": "oGxxWVdRXHUp",
        "colab": {
          "base_uri": "https://localhost:8080/"
        },
        "outputId": "63d9d51e-7cd3-4844-87bf-c5fa2305e910"
      },
      "execution_count": 42,
      "outputs": [
        {
          "output_type": "stream",
          "name": "stdout",
          "text": [
            "urotansh\n",
            "114655455+urotansh@users.noreply.github.com\n"
          ]
        }
      ]
    },
    {
      "cell_type": "code",
      "source": [
        "# リモートリポジトリのURL設定\n",
        "!git remote set-url origin git@github.com:urotansh/colab_test.git"
      ],
      "metadata": {
        "id": "TyxnJpzx3c3Q"
      },
      "execution_count": 43,
      "outputs": []
    },
    {
      "cell_type": "code",
      "source": [
        "# リモートリポジトリのURL確認\n",
        "!git remote -v"
      ],
      "metadata": {
        "id": "ZpO3ULTt6950",
        "colab": {
          "base_uri": "https://localhost:8080/"
        },
        "outputId": "152dcffe-26a5-4f13-e1b5-770c4bf1e261"
      },
      "execution_count": 44,
      "outputs": [
        {
          "output_type": "stream",
          "name": "stdout",
          "text": [
            "origin\tgit@github.com:urotansh/colab_test.git (fetch)\n",
            "origin\tgit@github.com:urotansh/colab_test.git (push)\n"
          ]
        }
      ]
    },
    {
      "cell_type": "code",
      "source": [
        "# github.comの公開鍵を取得\n",
        "!ssh-keyscan -t rsa github.com >> ~/.ssh/known_hosts"
      ],
      "metadata": {
        "id": "HszGKS1Rg9-s"
      },
      "execution_count": null,
      "outputs": []
    },
    {
      "cell_type": "code",
      "source": [
        "# エディタの確認\n",
        "# !git config --global core.editor"
      ],
      "metadata": {
        "id": "yCavYlmtdMwV"
      },
      "execution_count": null,
      "outputs": []
    },
    {
      "cell_type": "code",
      "source": [
        "# # ブランチ名をmainへ変更\n",
        "# !git branch -M main"
      ],
      "metadata": {
        "id": "P_5LpBPhd1r9"
      },
      "execution_count": null,
      "outputs": []
    },
    {
      "cell_type": "code",
      "source": [
        "# # ローカルリポジトリへコミット\n",
        "# !git commit -am \"hogehoge\""
      ],
      "metadata": {
        "id": "pn_PVzci6Ff0"
      },
      "execution_count": null,
      "outputs": []
    },
    {
      "cell_type": "code",
      "source": [
        "# # リモートリポジトリへプッシュ\n",
        "# !git push origin main"
      ],
      "metadata": {
        "id": "_-1GA6PKemxT"
      },
      "execution_count": null,
      "outputs": []
    },
    {
      "cell_type": "code",
      "source": [
        "!python add_world.py"
      ],
      "metadata": {
        "colab": {
          "base_uri": "https://localhost:8080/"
        },
        "id": "qP984kB0_spd",
        "outputId": "4abd5074-1b4b-4170-eec0-8cf7fb898936"
      },
      "execution_count": 36,
      "outputs": [
        {
          "output_type": "stream",
          "name": "stdout",
          "text": [
            "HelloWorld\n"
          ]
        }
      ]
    },
    {
      "cell_type": "code",
      "source": [
        "!git push origin main"
      ],
      "metadata": {
        "colab": {
          "base_uri": "https://localhost:8080/"
        },
        "id": "rgteY_YRBpAI",
        "outputId": "12571489-b2f2-47e7-d4e4-9827ac2bffa0"
      },
      "execution_count": 51,
      "outputs": [
        {
          "output_type": "stream",
          "name": "stdout",
          "text": [
            "Counting objects: 3, done.\n",
            "Delta compression using up to 2 threads.\n",
            "Compressing objects:  33% (1/3)   \rCompressing objects:  66% (2/3)   \rCompressing objects: 100% (3/3)   \rCompressing objects: 100% (3/3), done.\n",
            "Writing objects:  33% (1/3)   \rWriting objects:  66% (2/3)   \rWriting objects: 100% (3/3)   \rWriting objects: 100% (3/3), 337 bytes | 337.00 KiB/s, done.\n",
            "Total 3 (delta 1), reused 0 (delta 0)\n",
            "remote: Resolving deltas:   0% (0/1)\u001b[K\rremote: Resolving deltas: 100% (1/1)\u001b[K\rremote: Resolving deltas: 100% (1/1), completed with 1 local object.\u001b[K\n",
            "To github.com:urotansh/colab_test.git\n",
            "   33b8ade..5a04170  main -> main\n"
          ]
        }
      ]
    }
  ]
}