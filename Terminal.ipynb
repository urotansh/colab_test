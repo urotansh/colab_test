{
  "nbformat": 4,
  "nbformat_minor": 0,
  "metadata": {
    "colab": {
      "provenance": [],
      "authorship_tag": "ABX9TyNy946x8asx9sO40OD9Lz0S"
    },
    "kernelspec": {
      "name": "python3",
      "display_name": "Python 3"
    },
    "language_info": {
      "name": "python"
    },
    "accelerator": "GPU",
    "gpuClass": "standard"
  },
  "cells": [
    {
      "cell_type": "code",
      "source": [
        "# GitHubリポジトリのクローン\n",
        "!git clone https://github.com/urotansh/colab_test.git"
      ],
      "metadata": {
        "id": "d2iPgFO2jRkH",
        "colab": {
          "base_uri": "https://localhost:8080/"
        },
        "outputId": "e5a26b1a-648c-46fc-ca65-cbec130731cc"
      },
      "execution_count": 1,
      "outputs": [
        {
          "output_type": "stream",
          "name": "stdout",
          "text": [
            "Cloning into 'colab_test'...\n",
            "remote: Enumerating objects: 30, done.\u001b[K\n",
            "remote: Counting objects: 100% (30/30), done.\u001b[K\n",
            "remote: Compressing objects: 100% (29/29), done.\u001b[K\n",
            "remote: Total 30 (delta 8), reused 13 (delta 0), pack-reused 0\u001b[K\n",
            "Unpacking objects: 100% (30/30), done.\n"
          ]
        }
      ]
    },
    {
      "cell_type": "code",
      "source": [
        "# ディレクトリの移動\n",
        "%cd /content/colab_test"
      ],
      "metadata": {
        "id": "q1nCYoMN16Bf",
        "colab": {
          "base_uri": "https://localhost:8080/"
        },
        "outputId": "76a1318c-78ba-4dd5-b7c3-8f3858b5cb48"
      },
      "execution_count": 2,
      "outputs": [
        {
          "output_type": "stream",
          "name": "stdout",
          "text": [
            "/content/colab_test\n"
          ]
        }
      ]
    },
    {
      "cell_type": "code",
      "source": [
        "# # sshキー(秘密鍵・公開鍵)の作成\n",
        "# !ssh-keygen -t rsa -b 4096"
      ],
      "metadata": {
        "id": "8I9nWdpGS0pC"
      },
      "execution_count": null,
      "outputs": []
    },
    {
      "cell_type": "code",
      "source": [
        "# # ファイルアップロード\n",
        "# from google.colab import files\n",
        "# files.upload()"
      ],
      "metadata": {
        "id": "BNFLCHnS2OGR"
      },
      "execution_count": null,
      "outputs": []
    },
    {
      "cell_type": "code",
      "source": [
        "# ディレクトリ作成\n",
        "!mkdir /root/.ssh"
      ],
      "metadata": {
        "id": "Gipljys9_O9x"
      },
      "execution_count": 4,
      "outputs": []
    },
    {
      "cell_type": "code",
      "source": [
        "# アップロードファイルの移動\n",
        "!mv /content/id_rsa /root/.ssh"
      ],
      "metadata": {
        "id": "coP35f5Xjxpy"
      },
      "execution_count": 6,
      "outputs": []
    },
    {
      "cell_type": "code",
      "source": [
        "# sshキー(秘密鍵・公開鍵)の権限設定\n",
        "!chmod go-rwx /root/.ssh/id_rsa"
      ],
      "metadata": {
        "id": "-vtCiiSGWb8n"
      },
      "execution_count": 8,
      "outputs": []
    },
    {
      "cell_type": "code",
      "source": [
        "# # sshキー(秘密鍵・公開鍵)の確認\n",
        "!ls -l /root/.ssh\n",
        "!ls -ld /root/.ssh"
      ],
      "metadata": {
        "id": "zSKEWmacTKT_",
        "colab": {
          "base_uri": "https://localhost:8080/"
        },
        "outputId": "b0a2bd7e-4c58-49dc-b0da-520ae9db9028"
      },
      "execution_count": 17,
      "outputs": [
        {
          "output_type": "stream",
          "name": "stdout",
          "text": [
            "total 4\n",
            "-rw------- 1 root root 1675 Jan 11 08:40 id_rsa\n",
            "drwxr-xr-x 2 root root 4096 Jan 11 08:41 /root/.ssh\n"
          ]
        }
      ]
    },
    {
      "cell_type": "code",
      "source": [
        "# ユーザ名とメールアドレスの設定\n",
        "!git config --local user.name \"urotansh\"\n",
        "!git config --local user.email \"114655455+urotansh@users.noreply.github.com\""
      ],
      "metadata": {
        "id": "DdPdhG4c3P87"
      },
      "execution_count": 10,
      "outputs": []
    },
    {
      "cell_type": "code",
      "source": [
        "# ユーザ名とメールアドレスの確認\n",
        "!git config user.name\n",
        "!git config user.email"
      ],
      "metadata": {
        "id": "oGxxWVdRXHUp",
        "colab": {
          "base_uri": "https://localhost:8080/"
        },
        "outputId": "39e72946-01cb-4814-8990-7dbd3415e081"
      },
      "execution_count": 11,
      "outputs": [
        {
          "output_type": "stream",
          "name": "stdout",
          "text": [
            "urotansh\n",
            "114655455+urotansh@users.noreply.github.com\n"
          ]
        }
      ]
    },
    {
      "cell_type": "code",
      "source": [
        "# リモートリポジトリのURL設定\n",
        "!git remote set-url origin git@github.com:urotansh/colab_test.git"
      ],
      "metadata": {
        "id": "TyxnJpzx3c3Q"
      },
      "execution_count": 12,
      "outputs": []
    },
    {
      "cell_type": "code",
      "source": [
        "# リモートリポジトリのURL確認\n",
        "!git remote -v"
      ],
      "metadata": {
        "id": "ZpO3ULTt6950",
        "colab": {
          "base_uri": "https://localhost:8080/"
        },
        "outputId": "1ecc5592-263a-4400-874a-65f8cb58bada"
      },
      "execution_count": 13,
      "outputs": [
        {
          "output_type": "stream",
          "name": "stdout",
          "text": [
            "origin\tgit@github.com:urotansh/colab_test.git (fetch)\n",
            "origin\tgit@github.com:urotansh/colab_test.git (push)\n"
          ]
        }
      ]
    },
    {
      "cell_type": "code",
      "source": [
        "# github.comの公開鍵を取得\n",
        "!ssh-keyscan -t rsa github.com >> ~/.ssh/known_hosts"
      ],
      "metadata": {
        "id": "HszGKS1Rg9-s"
      },
      "execution_count": null,
      "outputs": []
    },
    {
      "cell_type": "code",
      "source": [
        "# エディタの確認\n",
        "# !git config --global core.editor"
      ],
      "metadata": {
        "id": "yCavYlmtdMwV"
      },
      "execution_count": null,
      "outputs": []
    },
    {
      "cell_type": "code",
      "source": [
        "# ブランチ名をmainへ変更\n",
        "!git branch -M main"
      ],
      "metadata": {
        "id": "P_5LpBPhd1r9"
      },
      "execution_count": null,
      "outputs": []
    },
    {
      "cell_type": "code",
      "source": [
        "# # ローカルリポジトリへコミット\n",
        "# !git commit -am \"hogehoge\""
      ],
      "metadata": {
        "id": "pn_PVzci6Ff0"
      },
      "execution_count": null,
      "outputs": []
    },
    {
      "cell_type": "code",
      "source": [
        "# # リモートリポジトリへプッシュ\n",
        "# !git push origin main"
      ],
      "metadata": {
        "id": "_-1GA6PKemxT"
      },
      "execution_count": null,
      "outputs": []
    },
    {
      "cell_type": "code",
      "source": [
        "!python function.py"
      ],
      "metadata": {
        "colab": {
          "base_uri": "https://localhost:8080/"
        },
        "id": "qP984kB0_spd",
        "outputId": "fce96de6-4a40-483a-a0d6-ff00e396e4c8"
      },
      "execution_count": 16,
      "outputs": [
        {
          "output_type": "stream",
          "name": "stdout",
          "text": [
            "HelloWorld\n"
          ]
        }
      ]
    },
    {
      "cell_type": "code",
      "source": [],
      "metadata": {
        "id": "PMyysXYtAKN_"
      },
      "execution_count": null,
      "outputs": []
    }
  ]
}